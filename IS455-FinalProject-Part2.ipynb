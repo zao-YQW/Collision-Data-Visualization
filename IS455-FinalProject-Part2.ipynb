{
 "cells": [
  {
   "cell_type": "markdown",
   "metadata": {
    "extensions": {
     "jupyter_dashboards": {
      "version": 1,
      "views": {
       "default_view": {
        "col": 0,
        "height": 4,
        "row": 0,
        "width": 12
       }
      }
     }
    }
   },
   "source": [
    "# IS445 Group E\n",
    "# Group Members： Dennis Hsiao, Aaditya Rao, Dishay Pankaj Shah, Qinwen Yang, and Yisi Yin"
   ]
  },
  {
   "cell_type": "code",
   "execution_count": 46,
   "metadata": {
    "extensions": {
     "jupyter_dashboards": {
      "version": 1,
      "views": {
       "default_view": {
        "hidden": true
       }
      }
     }
    }
   },
   "outputs": [],
   "source": [
    "import pandas as pd\n",
    "import calmap\n",
    "import numpy as np\n",
    "import sklearn\n",
    "import matplotlib as mpl\n",
    "import seaborn as sns\n",
    "import ipywidgets as widgets\n",
    "import matplotlib.pyplot as plt\n",
    "from ipywidgets import interact\n",
    "import bqplot\n",
    "from bqplot import pyplot as plty\n",
    "from bqplot import Tooltip\n",
    "import seaborn as sns\n",
    "import warnings\n",
    "import calmap\n",
    "warnings.filterwarnings(\"ignore\")\n",
    "%matplotlib inline"
   ]
  },
  {
   "cell_type": "code",
   "execution_count": 47,
   "metadata": {
    "extensions": {
     "jupyter_dashboards": {
      "version": 1,
      "views": {
       "default_view": {
        "col": 0,
        "height": 9,
        "row": 4,
        "width": 12
       }
      }
     }
    }
   },
   "outputs": [
    {
     "data": {
      "text/html": [
       "<div>\n",
       "<style scoped>\n",
       "    .dataframe tbody tr th:only-of-type {\n",
       "        vertical-align: middle;\n",
       "    }\n",
       "\n",
       "    .dataframe tbody tr th {\n",
       "        vertical-align: top;\n",
       "    }\n",
       "\n",
       "    .dataframe thead th {\n",
       "        text-align: right;\n",
       "    }\n",
       "</style>\n",
       "<table border=\"1\" class=\"dataframe\">\n",
       "  <thead>\n",
       "    <tr style=\"text-align: right;\">\n",
       "      <th></th>\n",
       "      <th>DR Number</th>\n",
       "      <th>Date Reported</th>\n",
       "      <th>Date Occurred</th>\n",
       "      <th>Time Occurred</th>\n",
       "      <th>Area ID</th>\n",
       "      <th>Area Name</th>\n",
       "      <th>Reporting District</th>\n",
       "      <th>Crime Code</th>\n",
       "      <th>Crime Code Description</th>\n",
       "      <th>MO Codes</th>\n",
       "      <th>Victim Age</th>\n",
       "      <th>Victim Sex</th>\n",
       "      <th>Victim Descent</th>\n",
       "      <th>Premise Code</th>\n",
       "      <th>Premise Description</th>\n",
       "      <th>Address</th>\n",
       "      <th>Cross Street</th>\n",
       "      <th>Location</th>\n",
       "    </tr>\n",
       "  </thead>\n",
       "  <tbody>\n",
       "    <tr>\n",
       "      <th>0</th>\n",
       "      <td>180512888</td>\n",
       "      <td>2018-07-01</td>\n",
       "      <td>07/01/2018</td>\n",
       "      <td>1300</td>\n",
       "      <td>5</td>\n",
       "      <td>Harbor</td>\n",
       "      <td>512</td>\n",
       "      <td>997</td>\n",
       "      <td>TRAFFIC COLLISION</td>\n",
       "      <td>0605 4005 3037 3004 3026 3029 3101</td>\n",
       "      <td>54</td>\n",
       "      <td>F</td>\n",
       "      <td>H</td>\n",
       "      <td>101.0</td>\n",
       "      <td>STREET</td>\n",
       "      <td>ANAHEIM                      ST</td>\n",
       "      <td>FRAMPTON</td>\n",
       "      <td>(33.7845, -118.302)</td>\n",
       "    </tr>\n",
       "    <tr>\n",
       "      <th>1</th>\n",
       "      <td>180117497</td>\n",
       "      <td>2018-07-01</td>\n",
       "      <td>07/01/2018</td>\n",
       "      <td>1615</td>\n",
       "      <td>1</td>\n",
       "      <td>Central</td>\n",
       "      <td>128</td>\n",
       "      <td>997</td>\n",
       "      <td>TRAFFIC COLLISION</td>\n",
       "      <td>3101 3401 3701 3009 3030</td>\n",
       "      <td>51</td>\n",
       "      <td>M</td>\n",
       "      <td>W</td>\n",
       "      <td>101.0</td>\n",
       "      <td>STREET</td>\n",
       "      <td>E  2ND                          ST</td>\n",
       "      <td>S  SAN PEDRO                    ST</td>\n",
       "      <td>(34.0493, -118.2418)</td>\n",
       "    </tr>\n",
       "    <tr>\n",
       "      <th>2</th>\n",
       "      <td>180117478</td>\n",
       "      <td>2018-07-01</td>\n",
       "      <td>06/30/2018</td>\n",
       "      <td>1124</td>\n",
       "      <td>1</td>\n",
       "      <td>Central</td>\n",
       "      <td>182</td>\n",
       "      <td>997</td>\n",
       "      <td>TRAFFIC COLLISION</td>\n",
       "      <td>3401 3701 3006 3030</td>\n",
       "      <td>47</td>\n",
       "      <td>F</td>\n",
       "      <td>H</td>\n",
       "      <td>101.0</td>\n",
       "      <td>STREET</td>\n",
       "      <td>17TH                         ST</td>\n",
       "      <td>GRAND                        AV</td>\n",
       "      <td>(34.042, -118.2625)</td>\n",
       "    </tr>\n",
       "    <tr>\n",
       "      <th>3</th>\n",
       "      <td>180117453</td>\n",
       "      <td>2018-07-01</td>\n",
       "      <td>06/30/2018</td>\n",
       "      <td>1700</td>\n",
       "      <td>1</td>\n",
       "      <td>Central</td>\n",
       "      <td>185</td>\n",
       "      <td>997</td>\n",
       "      <td>TRAFFIC COLLISION</td>\n",
       "      <td>3101 3401 3701 3004 3030 3032</td>\n",
       "      <td>39</td>\n",
       "      <td>M</td>\n",
       "      <td>A</td>\n",
       "      <td>108.0</td>\n",
       "      <td>PARKING LOT</td>\n",
       "      <td>BROADWAY</td>\n",
       "      <td>OLYMPIC</td>\n",
       "      <td>(34.0396, -118.259)</td>\n",
       "    </tr>\n",
       "    <tr>\n",
       "      <th>4</th>\n",
       "      <td>180214330</td>\n",
       "      <td>2018-07-01</td>\n",
       "      <td>07/01/2018</td>\n",
       "      <td>1555</td>\n",
       "      <td>2</td>\n",
       "      <td>Rampart</td>\n",
       "      <td>235</td>\n",
       "      <td>997</td>\n",
       "      <td>TRAFFIC COLLISION</td>\n",
       "      <td>3101 3401 3701 3004 3025 3029</td>\n",
       "      <td>22</td>\n",
       "      <td>M</td>\n",
       "      <td>H</td>\n",
       "      <td>101.0</td>\n",
       "      <td>STREET</td>\n",
       "      <td>ALVARADO                     ST</td>\n",
       "      <td>TEMPLE                       ST</td>\n",
       "      <td>(34.0703, -118.268)</td>\n",
       "    </tr>\n",
       "  </tbody>\n",
       "</table>\n",
       "</div>"
      ],
      "text/plain": [
       "   DR Number Date Reported Date Occurred  Time Occurred  Area ID Area Name  \\\n",
       "0  180512888    2018-07-01    07/01/2018           1300        5    Harbor   \n",
       "1  180117497    2018-07-01    07/01/2018           1615        1   Central   \n",
       "2  180117478    2018-07-01    06/30/2018           1124        1   Central   \n",
       "3  180117453    2018-07-01    06/30/2018           1700        1   Central   \n",
       "4  180214330    2018-07-01    07/01/2018           1555        2   Rampart   \n",
       "\n",
       "   Reporting District  Crime Code Crime Code Description  \\\n",
       "0                 512         997      TRAFFIC COLLISION   \n",
       "1                 128         997      TRAFFIC COLLISION   \n",
       "2                 182         997      TRAFFIC COLLISION   \n",
       "3                 185         997      TRAFFIC COLLISION   \n",
       "4                 235         997      TRAFFIC COLLISION   \n",
       "\n",
       "                             MO Codes  Victim Age Victim Sex Victim Descent  \\\n",
       "0  0605 4005 3037 3004 3026 3029 3101          54          F              H   \n",
       "1            3101 3401 3701 3009 3030          51          M              W   \n",
       "2                 3401 3701 3006 3030          47          F              H   \n",
       "3       3101 3401 3701 3004 3030 3032          39          M              A   \n",
       "4       3101 3401 3701 3004 3025 3029          22          M              H   \n",
       "\n",
       "   Premise Code Premise Description                             Address  \\\n",
       "0         101.0              STREET     ANAHEIM                      ST   \n",
       "1         101.0              STREET  E  2ND                          ST   \n",
       "2         101.0              STREET     17TH                         ST   \n",
       "3         108.0         PARKING LOT                            BROADWAY   \n",
       "4         101.0              STREET     ALVARADO                     ST   \n",
       "\n",
       "                         Cross Street              Location  \n",
       "0                            FRAMPTON   (33.7845, -118.302)  \n",
       "1  S  SAN PEDRO                    ST  (34.0493, -118.2418)  \n",
       "2     GRAND                        AV   (34.042, -118.2625)  \n",
       "3                             OLYMPIC   (34.0396, -118.259)  \n",
       "4     TEMPLE                       ST   (34.0703, -118.268)  "
      ]
     },
     "execution_count": 47,
     "metadata": {},
     "output_type": "execute_result"
    }
   ],
   "source": [
    "df1 = pd.read_csv(\"https://raw.githubusercontent.com/YisiYin/IS455-Final-Project/main/Traffic_Collision_Data_from_2010_to_Present.csv\", parse_dates=[\"Date Reported\"])\n",
    "# pd.set_option('display.max_columns', None)\n",
    "# pd.set_option('display.max_rows', None)\n",
    "df1.head()"
   ]
  },
  {
   "cell_type": "code",
   "execution_count": 48,
   "metadata": {
    "extensions": {
     "jupyter_dashboards": {
      "version": 1,
      "views": {
       "default_view": {
        "hidden": true
       }
      }
     }
    }
   },
   "outputs": [],
   "source": [
    "df1['Date Occurred'] = pd.to_datetime(df1['Date Occurred'])\n",
    "collisions_1 = pd.DataFrame(df1['Date Occurred'].value_counts())"
   ]
  },
  {
   "cell_type": "markdown",
   "metadata": {
    "extensions": {
     "jupyter_dashboards": {
      "version": 1,
      "views": {
       "default_view": {
        "col": 0,
        "height": 6,
        "row": 13,
        "width": 12
       }
      }
     }
    }
   },
   "source": [
    "# Overview of Traffic Collisions - Heatmap\n",
    "## - Collisions per Year\n",
    "## - Collisions per Month\n",
    "## - Collisions per Day"
   ]
  },
  {
   "cell_type": "code",
   "execution_count": 49,
   "metadata": {
    "extensions": {
     "jupyter_dashboards": {
      "version": 1,
      "views": {
       "default_view": {
        "col": 0,
        "height": 16,
        "row": 19,
        "width": 12
       }
      }
     }
    }
   },
   "outputs": [
    {
     "data": {
      "image/png": "[encoded data removed]",
      "text/plain": [
       "<Figure size 1224x576 with 3 Axes>"
      ]
     },
     "metadata": {},
     "output_type": "display_data"
    }
   ],
   "source": [
    "df1['Date Occurred'] = pd.to_datetime(df1['Date Occurred'])\n",
    "df1['Year'], df1['Month'], df1['Day'] = df1['Date Occurred'].dt.year, df1['Date Occurred'].dt.month, df1['Date Occurred'].dt.day\n",
    "df1['Weekday'] = df1['Date Occurred'].dt.dayofweek\n",
    "\n",
    "years = [2019, 2020, 2021]\n",
    "df1 = df1[df1['Year'].isin(years)]\n",
    "\n",
    "collisions_1 = pd.DataFrame(df1['Date Occurred'].value_counts())\n",
    "\n",
    "cmap = mpl.cm.get_cmap('Blues', 5)\n",
    "\n",
    "fig, ax = calmap.calendarplot(collisions_1['Date Occurred'],\n",
    "                    fillcolor='grey', linewidth=0.01,cmap=cmap,\n",
    "                    fig_kws=dict(figsize=(17,8)))\n",
    "fig.set_facecolor('#f9f9f9')\n",
    "fig.suptitle('Collision Data Heatmap', y = 1.05, size = 30);\n"
   ]
  },
  {
   "cell_type": "markdown",
   "metadata": {
    "extensions": {
     "jupyter_dashboards": {
      "version": 1,
      "views": {
       "default_view": {
        "col": 0,
        "height": 3,
        "row": 35,
        "width": 8
       }
      }
     }
    }
   },
   "source": [
    "# Overview of Victims by Age with respect to Sex and Descent"
   ]
  },
  {
   "cell_type": "code",
   "execution_count": 50,
   "metadata": {
    "extensions": {
     "jupyter_dashboards": {
      "version": 1,
      "views": {
       "default_view": {
        "hidden": true
       }
      }
     }
    }
   },
   "outputs": [],
   "source": [
    "dict_race = {'H':'Hispanic', 'B':'Black', 'O':'Unknown', 'W':'White', 'X':'Unknown',\n",
    "             'A':'Asian', 'K':'Asian', 'C':'Asian', 'F':'Asian', 'U':'Pacific Islander',\n",
    "             'J':'Asian', 'P':'Pacific Islander', 'V':'Asian', 'Z':'Asian',\n",
    "             'I':'American Indian', 'G':'Pacific Islander', 'S':'Pacific Islander', 'D':'Asian', 'L':'Asian'}\n",
    "\n",
    "df1[\"Victim Descent\"] = df1[\"Victim Descent\"].map(dict_race)"
   ]
  },
  {
   "cell_type": "code",
   "execution_count": 51,
   "metadata": {
    "extensions": {
     "jupyter_dashboards": {
      "version": 1,
      "views": {
       "default_view": {
        "hidden": true
       }
      }
     }
    }
   },
   "outputs": [],
   "source": [
    "dict_gender = {\n",
    "    'M':'Male', \n",
    "    'F':'Female', \n",
    "    'X':'Unknown'}\n",
    "df1[\"Victim Sex\"] = df1[\"Victim Sex\"].map(dict_gender)"
   ]
  },
  {
   "cell_type": "code",
   "execution_count": 52,
   "metadata": {
    "extensions": {
     "jupyter_dashboards": {
      "version": 1,
      "views": {
       "default_view": {
        "col": 0,
        "height": 15,
        "row": 38,
        "width": 9
       }
      }
     }
    }
   },
   "outputs": [
    {
     "data": {
      "text/plain": [
       "Text(0.5, 1.0, 'Distribution of Victim Age by Victim Gender')"
      ]
     },
     "execution_count": 52,
     "metadata": {},
     "output_type": "execute_result"
    },
    {
     "data": {
      "image/png": "[encoded data removed]",
      "text/plain": [
       "<Figure size 720x576 with 1 Axes>"
      ]
     },
     "metadata": {
      "needs_background": "light"
     },
     "output_type": "display_data"
    }
   ],
   "source": [
    "plt.figure(figsize=(10,8))\n",
    "sns.boxenplot(x='Victim Sex', y='Victim Age', data=df1)\n",
    "plt.title(\"Distribution of Victim Age by Victim Gender\")"
   ]
  },
  {
   "cell_type": "code",
   "execution_count": 53,
   "metadata": {
    "extensions": {
     "jupyter_dashboards": {
      "version": 1,
      "views": {
       "default_view": {
        "col": 0,
        "height": 17,
        "row": 53,
        "width": 8
       }
      }
     }
    }
   },
   "outputs": [
    {
     "data": {
      "text/plain": [
       "Text(0.5, 1.0, 'Distribution of Victim Age by Victim Descent')"
      ]
     },
     "execution_count": 53,
     "metadata": {},
     "output_type": "execute_result"
    },
    {
     "data": {
      "image/png": "[encoded data removed]",
      "text/plain": [
       "<Figure size 1008x720 with 1 Axes>"
      ]
     },
     "metadata": {
      "needs_background": "light"
     },
     "output_type": "display_data"
    }
   ],
   "source": [
    "\n",
    "plt.figure(figsize=(14,10))\n",
    "sns.boxenplot(x='Victim Descent', y='Victim Age', data=df1)\n",
    "plt.title(\"Distribution of Victim Age by Victim Descent\")\n",
    "\n"
   ]
  },
  {
   "cell_type": "markdown",
   "metadata": {
    "extensions": {
     "jupyter_dashboards": {
      "version": 1,
      "views": {
       "default_view": {
        "col": 0,
        "height": 3,
        "row": 70,
        "width": 12
       }
      }
     }
    }
   },
   "source": [
    "# Overview of Collisions with respect to the Area "
   ]
  },
  {
   "cell_type": "code",
   "execution_count": 54,
   "metadata": {
    "extensions": {
     "jupyter_dashboards": {
      "version": 1,
      "views": {
       "default_view": {
        "col": 0,
        "height": 28,
        "row": 73,
        "width": 7
       }
      }
     }
    }
   },
   "outputs": [
    {
     "data": {
      "image/png": "[encoded data removed]",
      "text/plain": [
       "<Figure size 864x1296 with 1 Axes>"
      ]
     },
     "metadata": {
      "needs_background": "light"
     },
     "output_type": "display_data"
    }
   ],
   "source": [
    "fig,ax = plt.subplots(figsize=(12,18))\n",
    "descending_order = df1['Area Name'].value_counts().sort_values(ascending=False).index\n",
    "sns.countplot(data=df1,palette='Reds_r',y=\"Area Name\",order=descending_order)\n",
    "ax.set_title('Area Name in collissions in LA sorted ny number of collissions');"
   ]
  },
  {
   "cell_type": "markdown",
   "metadata": {
    "extensions": {
     "jupyter_dashboards": {
      "version": 1,
      "views": {
       "default_view": {
        "col": 0,
        "height": 3,
        "row": 101,
        "width": 8
       }
      }
     }
    }
   },
   "source": [
    "# Overview of Number of Accidents with respect to Time of Day"
   ]
  },
  {
   "cell_type": "code",
   "execution_count": 55,
   "metadata": {
    "extensions": {
     "jupyter_dashboards": {
      "version": 1,
      "views": {
       "default_view": {
        "col": 0,
        "height": 12,
        "row": 104,
        "width": 6
       }
      }
     }
    }
   },
   "outputs": [
    {
     "data": {
      "application/vnd.jupyter.widget-view+json": {
       "model_id": "312cf50bbeac4d44a8d32ff9940e4f3d",
       "version_major": 2,
       "version_minor": 0
      },
      "text/plain": [
       "Figure(axes=[Axis(label='Time Occurred', label_offset='35px', scale=LinearScale(), tick_format='0.1f'), Axis(l…"
      ]
     },
     "metadata": {},
     "output_type": "display_data"
    }
   ],
   "source": [
    "x_lin = plty.LinearScale()\n",
    "y_lin = plty.LinearScale()\n",
    "\n",
    "histogram = plty.hist(sample = df1[\"Time Occurred\"], bins = 24, scales = {'sample': x_lin, 'count': y_lin})\n",
    "histogram.colors = [\"orange\"]\n",
    "histogram.stroke=\"blue\"\n",
    "histogram.stroke_width = 2.0\n",
    "\n",
    "ax_x = plty.Axis(scale = x_lin, label = 'Time Occurred', label_offset = '35px', tick_format = '0.1f')\n",
    "ax_y = plty.Axis(scale = y_lin, label = 'Number of Accidents', orientation = 'vertical', label_offset = '45px', tick_format = '0.1f')\n",
    "fig = plty.Figure(marks = [histogram], axes = [ax_x, ax_y], legend_location = 'top', title = 'Number of Accidents by Time of day', fig_margin = dict(top=40, bottom=40, left=60, right=40))\n",
    "fig.layout.width = \"600px\"\n",
    "fig.layout.height = \"400px\"\n",
    "\n",
    "fig"
   ]
  },
  {
   "cell_type": "markdown",
   "metadata": {
    "extensions": {
     "jupyter_dashboards": {
      "version": 1,
      "views": {
       "default_view": {
        "col": 0,
        "height": 3,
        "row": 116,
        "width": 9
       }
      }
     }
    }
   },
   "source": [
    "# Overview of the number of traffic collision case of each area by year by month"
   ]
  },
  {
   "cell_type": "code",
   "execution_count": 56,
   "metadata": {
    "extensions": {
     "jupyter_dashboards": {
      "version": 1,
      "views": {
       "default_view": {
        "hidden": true
       }
      }
     }
    }
   },
   "outputs": [],
   "source": [
    "# Read in the dataset with its url\n",
    "df=pd.read_csv(\"https://raw.githubusercontent.com/zao-YQW/IS445_Final_GroupE/main/Traffic_Collision_Data_from_2010_to_Present.csv\")"
   ]
  },
  {
   "cell_type": "code",
   "execution_count": 57,
   "metadata": {
    "extensions": {
     "jupyter_dashboards": {
      "version": 1,
      "views": {
       "default_view": {
        "hidden": true
       }
      }
     }
    }
   },
   "outputs": [],
   "source": [
    "# convert the \"Date Occurred\" column into three columns, which are respectively year, month and day\n",
    "df['Date Occurred-year'] = df['Date Occurred'].map(lambda x:x.split('/')[2])\n",
    "df['Date Occurred-day'] = df['Date Occurred'].map(lambda x:x.split('/')[1])\n",
    "df['Date Occurred-month'] = df['Date Occurred'].map(lambda x:x.split('/')[0])\n",
    "\n",
    "# Groupby the dataset by 'Date Occurred-month','Date Occurred-year' and'Area ID'column\n",
    "area = df.groupby(['Date Occurred-month','Date Occurred-year','Area ID']).count()\n",
    "area = pd.DataFrame(area, columns=['Date Reported'])\n",
    "area.columns = ['Case Number']  \n",
    "area = area.unstack()\n",
    "\n",
    "# get a new data frame \n",
    "new_df = pd.DataFrame(area)\n",
    "\n",
    "# Extract monthly data to facilitate visualization drawing\n",
    "new_df_01 = new_df.iloc[0:3].T\n",
    "new_df_02 = new_df.iloc[3:6].T\n",
    "new_df_03 = new_df.iloc[6:9].T\n",
    "new_df_04 = new_df.iloc[9:12].T\n",
    "new_df_05 = new_df.iloc[12:15].T\n",
    "new_df_06 = new_df.iloc[15:18].T\n",
    "new_df_07 = new_df.iloc[18:21].T\n",
    "new_df_08 = new_df.iloc[21:24].T\n",
    "new_df_09 = new_df.iloc[24:27].T\n",
    "new_df_10 = new_df.iloc[27:30].T\n",
    "new_df_11 = new_df.iloc[30:33].T\n",
    "new_df_12 = new_df.iloc[33:36].T\n",
    "area = []\n",
    "for i in range(21):\n",
    "    area.append(new_df_01.index[i][1])\n",
    "\n",
    "new_df_01['Area ID'] = area\n",
    "new_df_02['Area ID'] = area\n",
    "new_df_03['Area ID'] = area\n",
    "new_df_04['Area ID'] = area\n",
    "new_df_05['Area ID'] = area\n",
    "new_df_06['Area ID'] = area\n",
    "new_df_07['Area ID'] = area\n",
    "new_df_08['Area ID'] = area\n",
    "new_df_09['Area ID'] = area\n",
    "new_df_10['Area ID'] = area\n",
    "new_df_11['Area ID'] = area\n",
    "new_df_12['Area ID'] = area"
   ]
  },
  {
   "cell_type": "code",
   "execution_count": 58,
   "metadata": {
    "extensions": {
     "jupyter_dashboards": {
      "version": 1,
      "views": {
       "default_view": {
        "col": 0,
        "height": 16,
        "row": 119,
        "width": 11
       }
      }
     }
    }
   },
   "outputs": [
    {
     "data": {
      "application/vnd.jupyter.widget-view+json": {
       "model_id": "b7984f852c2f4e2ab91ae171ab0dca87",
       "version_major": 2,
       "version_minor": 0
      },
      "text/plain": [
       "interactive(children=(Dropdown(description='month_set', options={'Jan': 'new_df_01', 'Feb': 'new_df_02', 'Mar'…"
      ]
     },
     "metadata": {},
     "output_type": "display_data"
    },
    {
     "data": {
      "text/plain": [
       "<function __main__.plot_draw(month_set, year)>"
      ]
     },
     "execution_count": 58,
     "metadata": {},
     "output_type": "execute_result"
    }
   ],
   "source": [
    "# Create a interatcive visualization.\n",
    "def plot_draw(month_set, year):\n",
    "    inside = month_set[-2:]\n",
    "    month = eval(month_set)\n",
    "    ax = month.plot.bar(x = 'Area ID', y = (inside, year), figsize = (20,8))\n",
    "    plt.xlabel('Area ID',size = 20)\n",
    "    plt.ylabel('Case Number', size = 20)\n",
    "    plt.title(\"Each Area's Traffic Collision Case by Year by Month\", size = 20)\n",
    "    plt.yticks(size = 20)\n",
    "    plt.legend('Year')\n",
    "    ax.set_xticklabels([1,2,3,4,5,6,7,8,9,10,11,12,13,14,15,16,17,18,19,20,21],fontsize=20,rotation=1)\n",
    "    plt.show()\n",
    "\n",
    "interact(plot_draw,\n",
    "         month_set = {'Jan':'new_df_01','Feb':'new_df_02','Mar':'new_df_03','Apr':'new_df_04',\n",
    "                  'May':'new_df_05','Jun':'new_df_06','Jul':'new_df_07','Aug':'new_df_08',\n",
    "                  'Sep':'new_df_09','Oct':'new_df_10','Nov':'new_df_11','Dec':'new_df_12'},\n",
    "         year = {'2019':'2019','2020':'2020','2021':'2021'})"
   ]
  },
  {
   "cell_type": "markdown",
   "metadata": {
    "extensions": {
     "jupyter_dashboards": {
      "version": 1,
      "views": {
       "default_view": {
        "col": 0,
        "height": 3,
        "row": 135,
        "width": 12
       }
      }
     }
    }
   },
   "source": [
    "#  Overview of Victim Age with respect to the Collisions from September 2019 to August 2020"
   ]
  },
  {
   "cell_type": "code",
   "execution_count": 59,
   "metadata": {
    "extensions": {
     "jupyter_dashboards": {
      "version": 1,
      "views": {
       "default_view": {
        "hidden": true
       }
      }
     }
    }
   },
   "outputs": [],
   "source": [
    "warnings.filterwarnings(\"ignore\")\n",
    "%matplotlib widget"
   ]
  },
  {
   "cell_type": "code",
   "execution_count": 60,
   "metadata": {
    "extensions": {
     "jupyter_dashboards": {
      "version": 1,
      "views": {
       "default_view": {
        "hidden": true
       }
      }
     }
    }
   },
   "outputs": [],
   "source": [
    "df2 = pd.read_csv(\"https://raw.githubusercontent.com/YisiYin/IS455-Final-Project/main/Traffic_Collision_Data_from_2010_to_Present.csv\", parse_dates=[\"Date Reported\"])\n",
    "# pd.set_option('display.max_columns', None)\n",
    "# pd.set_option('display.max_rows', None)"
   ]
  },
  {
   "cell_type": "code",
   "execution_count": 61,
   "metadata": {
    "extensions": {
     "jupyter_dashboards": {
      "version": 1,
      "views": {
       "default_view": {
        "col": 0,
        "height": 13,
        "row": 138,
        "width": 12
       }
      }
     }
    }
   },
   "outputs": [
    {
     "data": {
      "application/vnd.jupyter.widget-view+json": {
       "model_id": "b12a85f290054908845ba2cbe3e3df0e",
       "version_major": 2,
       "version_minor": 0
      },
      "text/plain": [
       "VBox(children=(Figure(axes=[Axis(label='Victim Age', scale=LinearScale()), Axis(label='Number of Incidents', o…"
      ]
     },
     "metadata": {},
     "output_type": "display_data"
    }
   ],
   "source": [
    "fig2 = plty.figure(title=\"Relationship between the Victim Age and the number of incidents\")\n",
    "df3 = df2.groupby(\"Victim Age\")[\"Victim Age\"].count()\n",
    "scat2 = plty.bar(x = df3.index, y=df3)\n",
    "\n",
    "plty.xlabel(\"Victim Age\")\n",
    "plty.ylabel(\"Number of Incidents\")\n",
    "scat2.tooltip = Tooltip(fields=[\"x\", \"y\"], labels=[\"Victim Age\",\"Number Of Incidents\"])\n",
    "plty.show()"
   ]
  },
  {
   "cell_type": "code",
   "execution_count": 62,
   "metadata": {
    "extensions": {
     "jupyter_dashboards": {
      "version": 1,
      "views": {
       "default_view": {
        "col": 0,
        "height": 1,
        "row": 151,
        "width": 12
       }
      }
     }
    }
   },
   "outputs": [
    {
     "data": {
      "application/vnd.jupyter.widget-view+json": {
       "model_id": "667649c9a12642159baefb50279684d3",
       "version_major": 2,
       "version_minor": 0
      },
      "text/plain": [
       "Dropdown(options=(((2019, 'September'), (2019, 9)), ((2019, 'October'), (2019, 10)), ((2019, 'November'), (201…"
      ]
     },
     "metadata": {},
     "output_type": "display_data"
    }
   ],
   "source": [
    "\n",
    "year_months_idx = list(zip([2019,]*4 + [2020]*8,[ 9, 10, 11, 12, 1, 2, 3, 4, 5, 6, 7, 8]))\n",
    "year_months_names = list(zip([2019,]*4 + [2020]*8,['September', 'October', 'November', 'December', \n",
    "                                                   'January', 'February','March','April', 'May', 'June', 'July', 'August']))\n",
    "\n",
    "month_dropdown = widgets.Dropdown(options=list(zip(year_months_names, year_months_idx)), value=year_months_idx[0])\n",
    "month_dropdown"
   ]
  },
  {
   "cell_type": "code",
   "execution_count": 63,
   "metadata": {
    "extensions": {
     "jupyter_dashboards": {
      "version": 1,
      "views": {
       "default_view": {
        "hidden": true
       }
      }
     }
    }
   },
   "outputs": [],
   "source": [
    "new_df = df2.groupby(\"Victim Age\")[\"Victim Age\"].count()"
   ]
  },
  {
   "cell_type": "code",
   "execution_count": 64,
   "metadata": {
    "extensions": {
     "jupyter_dashboards": {
      "version": 1,
      "views": {
       "default_view": {
        "col": 0,
        "height": 10,
        "row": 155,
        "width": 12
       }
      }
     }
    }
   },
   "outputs": [
    {
     "data": {
      "application/vnd.jupyter.widget-view+json": {
       "model_id": "8febc33ff7624177915a720b3c3b5ff5",
       "version_major": 2,
       "version_minor": 0
      },
      "text/html": [
       "\n",
       "            <div style=\"display: inline-block;\">\n",
       "                <div class=\"jupyter-widgets widget-label\" style=\"text-align: center;\">\n",
       "                    Figure\n",
       "                </div>\n",
       "                <img src='data:image/png;base64,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' width=576.0/>\n",
       "            </div>\n",
       "        "
      ],
      "text/plain": [
       "Canvas(toolbar=Toolbar(toolitems=[('Home', 'Reset original view', 'home', 'home'), ('Back', 'Back to previous …"
      ]
     },
     "metadata": {},
     "output_type": "display_data"
    }
   ],
   "source": [
    "output = widgets.Output()\n",
    "\n",
    "with output:\n",
    "    with plt.style.context(\"seaborn\"):\n",
    "        fig = plt.figure(figsize=(8,4))\n",
    "\n",
    "        plt.plot(new_df.index, new_df)\n",
    "\n",
    "        plt.xlabel(\"Victim Age\")\n",
    "        plt.ylabel(\"number of Case\")\n",
    "        plt.title(\"The relationship between Victim Age and Number of Traffic Accidents\");"
   ]
  },
  {
   "cell_type": "code",
   "execution_count": 65,
   "metadata": {
    "extensions": {
     "jupyter_dashboards": {
      "version": 1,
      "views": {
       "default_view": {
        "hidden": true
       }
      }
     }
    }
   },
   "outputs": [],
   "source": [
    "def update_line_chart(year_month):\n",
    "    dt = \"%d-%d\"%(year_month[\"new\"][0], year_month[\"new\"][1])\n",
    "    temp_df = df2.set_index(\"Date Reported\")[dt]\n",
    "    with output:\n",
    "        with plt.style.context(\"seaborn\"):\n",
    "            fig.clear()\n",
    "            for selected in year_month[\"new\"]:\n",
    "                new_temp_df = temp_df.groupby(\"Victim Age\")[\"Victim Age\"].count()\n",
    "                plt.plot(new_temp_df.index, new_temp_df)\n",
    "\n",
    "            plt.xlabel(\"Victim Age\")\n",
    "            plt.ylabel(\"number of Case\")\n",
    "            plt.title(\"The relationship between Victim Age and Number of Traffic Accidents\");\n",
    "            fig.canvas.draw()\n",
    "\n",
    "month_dropdown.observe(update_line_chart, names=\"value\")"
   ]
  },
  {
   "cell_type": "code",
   "execution_count": 66,
   "metadata": {
    "extensions": {
     "jupyter_dashboards": {
      "version": 1,
      "views": {
       "default_view": {
        "col": 0,
        "height": 3,
        "row": 152,
        "width": 12
       }
      }
     }
    }
   },
   "outputs": [
    {
     "data": {
      "application/vnd.jupyter.widget-view+json": {
       "model_id": "02f9be29ece84d9b83047812d9779463",
       "version_major": 2,
       "version_minor": 0
      },
      "text/plain": [
       "VBox(children=(Dropdown(options=(((2019, 'September'), (2019, 9)), ((2019, 'October'), (2019, 10)), ((2019, 'N…"
      ]
     },
     "metadata": {},
     "output_type": "display_data"
    }
   ],
   "source": [
    "widgets.VBox([month_dropdown, output])"
   ]
  },
  {
   "cell_type": "code",
   "execution_count": null,
   "metadata": {
    "extensions": {
     "jupyter_dashboards": {
      "version": 1,
      "views": {
       "default_view": {
        "hidden": true
       }
      }
     }
    }
   },
   "outputs": [],
   "source": []
  }
 ],
 "metadata": {
  "extensions": {
   "jupyter_dashboards": {
    "activeView": "default_view",
    "version": 1,
    "views": {
     "default_view": {
      "cellMargin": 10,
      "defaultCellHeight": 40,
      "maxColumns": 12,
      "name": "active_view",
      "type": "grid"
     }
    }
   }
  },
  "kernelspec": {
   "display_name": "Python 3",
   "language": "python",
   "name": "python3"
  },
  "language_info": {
   "codemirror_mode": {
    "name": "ipython",
    "version": 3
   },
   "file_extension": ".py",
   "mimetype": "text/x-python",
   "name": "python",
   "nbconvert_exporter": "python",
   "pygments_lexer": "ipython3",
   "version": "3.8.8"
  }
 },
 "nbformat": 4,
 "nbformat_minor": 4
}
